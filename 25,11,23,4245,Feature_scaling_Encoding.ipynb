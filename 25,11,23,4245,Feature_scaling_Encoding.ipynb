{
  "nbformat": 4,
  "nbformat_minor": 0,
  "metadata": {
    "colab": {
      "provenance": [],
      "authorship_tag": "ABX9TyPQ84npqiqZdTEXYx5561EM",
      "include_colab_link": true
    },
    "kernelspec": {
      "name": "python3",
      "display_name": "Python 3"
    },
    "language_info": {
      "name": "python"
    }
  },
  "cells": [
    {
      "cell_type": "markdown",
      "metadata": {
        "id": "view-in-github",
        "colab_type": "text"
      },
      "source": [
        "<a href=\"https://colab.research.google.com/github/PHANIHARSHITH/AIML-LAB/blob/main/25%2C11%2C23%2C4245%2CFeature_scaling_Encoding.ipynb\" target=\"_parent\"><img src=\"https://colab.research.google.com/assets/colab-badge.svg\" alt=\"Open In Colab\"/></a>"
      ]
    },
    {
      "cell_type": "code",
      "execution_count": 4,
      "metadata": {
        "colab": {
          "base_uri": "https://localhost:8080/"
        },
        "id": "Rka9vO5WnWfC",
        "outputId": "625ffd36-1aa0-443d-8023-b5fbbf0de5d7"
      },
      "outputs": [
        {
          "output_type": "stream",
          "name": "stdout",
          "text": [
            "[[0.   0.  ]\n",
            " [0.25 0.25]\n",
            " [0.5  0.5 ]\n",
            " [1.   1.  ]]\n"
          ]
        }
      ],
      "source": [
        "from sklearn.preprocessing import MinMaxScaler\n",
        "x=[[-1,2],[-0.5,6],[0,10],[1,18]]\n",
        "Scaler=MinMaxScaler()\n",
        "Scaler.fit(x)\n",
        "print(Scaler.transform(x))"
      ]
    },
    {
      "cell_type": "code",
      "source": [
        "#Normalizer\n",
        "from sklearn.preprocessing import Normalizer\n",
        "y=[[2,4,2,4],[3,45,42,2],[28,23,3,11]]\n",
        "t=Normalizer().fit(y)\n",
        "print(t.transform(y))\n"
      ],
      "metadata": {
        "colab": {
          "base_uri": "https://localhost:8080/"
        },
        "id": "Bg-DEkdMoS7m",
        "outputId": "ac5125bd-74af-43b6-e477-77929fee403c"
      },
      "execution_count": 8,
      "outputs": [
        {
          "output_type": "stream",
          "name": "stdout",
          "text": [
            "[[0.31622777 0.63245553 0.31622777 0.63245553]\n",
            " [0.04865362 0.72980437 0.68115074 0.03243575]\n",
            " [0.73709738 0.60547285 0.07897472 0.28957397]]\n"
          ]
        }
      ]
    },
    {
      "cell_type": "code",
      "source": [
        "#StandardScaler\n",
        "from sklearn.preprocessing import StandardScaler\n",
        "x=[[0,61],[0,62],[1,63],[1,64]]\n",
        "s=StandardScaler().fit(x)\n",
        "print(s.transform(x))"
      ],
      "metadata": {
        "colab": {
          "base_uri": "https://localhost:8080/"
        },
        "id": "sw8yjRiequDi",
        "outputId": "a77b5a55-1293-40ce-aff4-147fb2986a2c"
      },
      "execution_count": 12,
      "outputs": [
        {
          "output_type": "stream",
          "name": "stdout",
          "text": [
            "[[-1.         -1.34164079]\n",
            " [-1.         -0.4472136 ]\n",
            " [ 1.          0.4472136 ]\n",
            " [ 1.          1.34164079]]\n"
          ]
        }
      ]
    },
    {
      "cell_type": "code",
      "source": [
        "#Encoding\n",
        "\n",
        "# 1.Label Encoding\n",
        "from sklearn.preprocessing import LabelEncoder\n",
        "colour=['red','green','blue','red','green']\n",
        "label_enco = LabelEncoder()\n",
        "enco_data =  label_enco.fit_transform(colour)\n",
        "print(\"Original colour: \",colour)\n",
        "print(\"Encoded colour:\",enco_data)"
      ],
      "metadata": {
        "colab": {
          "base_uri": "https://localhost:8080/"
        },
        "id": "BwdJfsfDrtgE",
        "outputId": "51645ba3-dd03-4f73-fbc8-eae6d6f423b8"
      },
      "execution_count": 13,
      "outputs": [
        {
          "output_type": "stream",
          "name": "stdout",
          "text": [
            "Original colour:  ['red', 'green', 'blue', 'red', 'green']\n",
            "Encoded colour: [2 1 0 2 1]\n"
          ]
        }
      ]
    },
    {
      "cell_type": "code",
      "source": [
        "# 2.One Hot Encoding\n",
        "import pandas as pd\n",
        "df=pd.DataFrame({'team' : ['A','A','B','B','C','C','C','C'], 'points' : [25,12,15,14,23,28,11,3]})\n",
        "print(df)"
      ],
      "metadata": {
        "colab": {
          "base_uri": "https://localhost:8080/"
        },
        "id": "pnoDsMB-st5I",
        "outputId": "307d2b88-6827-40f2-fd8a-673baf8bed6b"
      },
      "execution_count": 18,
      "outputs": [
        {
          "output_type": "stream",
          "name": "stdout",
          "text": [
            "  team  points\n",
            "0    A      25\n",
            "1    A      12\n",
            "2    B      15\n",
            "3    B      14\n",
            "4    C      23\n",
            "5    C      28\n",
            "6    C      11\n",
            "7    C       3\n"
          ]
        }
      ]
    },
    {
      "cell_type": "code",
      "source": [
        "from sklearn.preprocessing import OneHotEncoder\n",
        "encoder = OneHotEncoder(handle_unknown='ignore')\n",
        "enco_df = pd.DataFrame(encoder.fit_transform(df[['team']]).toarray())\n",
        "final_df=df.join(enco_df)\n",
        "print(final_df)"
      ],
      "metadata": {
        "colab": {
          "base_uri": "https://localhost:8080/"
        },
        "id": "TWsRXaUttvKo",
        "outputId": "d461cb73-62fc-49cc-8e4e-1dbbe588abe7"
      },
      "execution_count": 23,
      "outputs": [
        {
          "output_type": "stream",
          "name": "stdout",
          "text": [
            "  team  points    0    1    2\n",
            "0    A      25  1.0  0.0  0.0\n",
            "1    A      12  1.0  0.0  0.0\n",
            "2    B      15  0.0  1.0  0.0\n",
            "3    B      14  0.0  1.0  0.0\n",
            "4    C      23  0.0  0.0  1.0\n",
            "5    C      28  0.0  0.0  1.0\n",
            "6    C      11  0.0  0.0  1.0\n",
            "7    C       3  0.0  0.0  1.0\n"
          ]
        }
      ]
    },
    {
      "cell_type": "code",
      "source": [
        "final_df.drop('team',axis=1,inplace=True)\n",
        "print(final_df)"
      ],
      "metadata": {
        "colab": {
          "base_uri": "https://localhost:8080/"
        },
        "id": "q2__ZJoyyq6X",
        "outputId": "feab96b3-434c-444f-faf2-24f82d20d56b"
      },
      "execution_count": 25,
      "outputs": [
        {
          "output_type": "stream",
          "name": "stdout",
          "text": [
            "   points    0    1    2\n",
            "0      25  1.0  0.0  0.0\n",
            "1      12  1.0  0.0  0.0\n",
            "2      15  0.0  1.0  0.0\n",
            "3      14  0.0  1.0  0.0\n",
            "4      23  0.0  0.0  1.0\n",
            "5      28  0.0  0.0  1.0\n",
            "6      11  0.0  0.0  1.0\n",
            "7       3  0.0  0.0  1.0\n"
          ]
        }
      ]
    }
  ]
}